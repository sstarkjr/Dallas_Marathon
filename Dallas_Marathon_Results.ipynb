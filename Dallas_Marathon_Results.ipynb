{
 "cells": [
  {
   "cell_type": "code",
   "execution_count": 72,
   "metadata": {},
   "outputs": [],
   "source": [
    "import pandas as pd\n",
    "import numpy as np\n",
    "\n",
    "import seaborn as sns\n",
    "import matplotlib.pyplot as plt\n",
    "from datetime import time\n",
    "from datetime import datetime as dt\n",
    "from dateutil import parser\n",
    "from matplotlib import rcParams\n",
    "\n",
    "pd.options.display.max_columns = 100\n",
    "pd.options.display.max_rows = 1000"
   ]
  },
  {
   "cell_type": "markdown",
   "metadata": {},
   "source": [
    "# Summary\n",
    "1. [Data Cleaning](#cleaning)\n",
    "2. [Modeling](#modeling)"
   ]
  },
  {
   "cell_type": "code",
   "execution_count": 2,
   "metadata": {},
   "outputs": [
    {
     "data": {
      "text/plain": [
       "Index(['Gun_Time', 'Chip_Time', 'Bib', 'First_Name', 'Last_Name', 'Share',\n",
       "       'Race_Photos', 'City', 'State', 'Division', 'Class_Position',\n",
       "       'Overall_Place', 'Team', 'Age', 'Zip', 'Gen_Place', 'Total_Pace',\n",
       "       'Tot_Div', 'Tot_Gend', 'Tot_AG', '5K', '5K_Pace', '10K', '10K_Pace',\n",
       "       '15K', '15K_Pace', '11.5M', '11.5M_Pace', '13.1M', '13.1M_Pace'],\n",
       "      dtype='object')"
      ]
     },
     "execution_count": 2,
     "metadata": {},
     "output_type": "execute_result"
    }
   ],
   "source": [
    "df = pd.read_csv('Dallas_Half_Marathon_Results.csv', header=0)\n",
    "\n",
    "df.columns"
   ]
  },
  {
   "cell_type": "code",
   "execution_count": 3,
   "metadata": {},
   "outputs": [
    {
     "name": "stdout",
     "output_type": "stream",
     "text": [
      "<class 'pandas.core.frame.DataFrame'>\n",
      "RangeIndex: 6539 entries, 0 to 6538\n",
      "Data columns (total 30 columns):\n",
      "Gun_Time          6539 non-null object\n",
      "Chip_Time         6539 non-null object\n",
      "Bib               6539 non-null int64\n",
      "First_Name        6539 non-null object\n",
      "Last_Name         6539 non-null object\n",
      "Share             0 non-null float64\n",
      "Race_Photos       0 non-null float64\n",
      "City              6433 non-null object\n",
      "State             6420 non-null object\n",
      "Division          6539 non-null object\n",
      "Class_Position    6539 non-null object\n",
      "Overall_Place     6539 non-null object\n",
      "Team              0 non-null float64\n",
      "Age               6539 non-null int64\n",
      "Zip               6433 non-null object\n",
      "Gen_Place         6539 non-null object\n",
      "Total_Pace        6500 non-null object\n",
      "Tot_Div           6539 non-null int64\n",
      "Tot_Gend          6539 non-null int64\n",
      "Tot_AG            6539 non-null int64\n",
      "5K                6506 non-null object\n",
      "5K_Pace           6506 non-null object\n",
      "10K               6504 non-null object\n",
      "10K_Pace          6504 non-null object\n",
      "15K               6483 non-null object\n",
      "15K_Pace          6483 non-null object\n",
      "11.5M             6067 non-null object\n",
      "11.5M_Pace        6067 non-null object\n",
      "13.1M             6500 non-null object\n",
      "13.1M_Pace        6500 non-null object\n",
      "dtypes: float64(3), int64(5), object(22)\n",
      "memory usage: 1.5+ MB\n"
     ]
    }
   ],
   "source": [
    "df.info()"
   ]
  },
  {
   "cell_type": "markdown",
   "metadata": {},
   "source": [
    "<a id='cleaning'></a>\n",
    "## Cleaning"
   ]
  },
  {
   "cell_type": "code",
   "execution_count": 4,
   "metadata": {},
   "outputs": [
    {
     "name": "stdout",
     "output_type": "stream",
     "text": [
      "<class 'pandas.core.frame.DataFrame'>\n",
      "RangeIndex: 6539 entries, 0 to 6538\n",
      "Data columns (total 20 columns):\n",
      "Chip_Time         6539 non-null object\n",
      "First_Name        6539 non-null object\n",
      "Last_Name         6539 non-null object\n",
      "City              6433 non-null object\n",
      "State             6420 non-null object\n",
      "Division          6539 non-null object\n",
      "Class_Position    6539 non-null object\n",
      "Overall_Place     6539 non-null object\n",
      "Age               6539 non-null int64\n",
      "Zip               6433 non-null object\n",
      "Gen_Place         6539 non-null object\n",
      "Total_Pace        6500 non-null object\n",
      "Tot_Div           6539 non-null int64\n",
      "Tot_Gend          6539 non-null int64\n",
      "Tot_AG            6539 non-null int64\n",
      "5K                6506 non-null object\n",
      "10K               6504 non-null object\n",
      "15K               6483 non-null object\n",
      "11.5M             6067 non-null object\n",
      "13.1M             6500 non-null object\n",
      "dtypes: int64(4), object(16)\n",
      "memory usage: 1021.8+ KB\n"
     ]
    }
   ],
   "source": [
    "#Drop Unneccesary COlumns\n",
    "drop_cols = ['Bib','Share','Race_Photos','Team',\n",
    "             '5K_Pace','10K_Pace','15K_Pace','11.5M_Pace','13.1M_Pace', 'Gun_Time']\n",
    "\n",
    "df = df.drop(drop_cols, axis=1)\n",
    "df.info()\n",
    "\n"
   ]
  },
  {
   "cell_type": "code",
   "execution_count": null,
   "metadata": {},
   "outputs": [],
   "source": []
  },
  {
   "cell_type": "code",
   "execution_count": 5,
   "metadata": {},
   "outputs": [
    {
     "data": {
      "text/plain": [
       "(6539, 20)"
      ]
     },
     "execution_count": 5,
     "metadata": {},
     "output_type": "execute_result"
    }
   ],
   "source": [
    "df.shape"
   ]
  },
  {
   "cell_type": "code",
   "execution_count": 6,
   "metadata": {},
   "outputs": [
    {
     "data": {
      "text/plain": [
       "(6499, 20)"
      ]
     },
     "execution_count": 6,
     "metadata": {},
     "output_type": "execute_result"
    }
   ],
   "source": [
    "#separate did not finish\n",
    "dnf = df[df['Chip_Time']=='DNF'].index\n",
    "\n",
    "df = df.drop(dnf, axis=0)\n",
    "df.shape"
   ]
  },
  {
   "cell_type": "markdown",
   "metadata": {},
   "source": [
    "### Missing Data"
   ]
  },
  {
   "cell_type": "code",
   "execution_count": 7,
   "metadata": {},
   "outputs": [
    {
     "data": {
      "text/plain": [
       "Chip_Time           0\n",
       "First_Name          0\n",
       "Last_Name           0\n",
       "City              106\n",
       "State             119\n",
       "Division            0\n",
       "Class_Position      0\n",
       "Overall_Place       0\n",
       "Age                 0\n",
       "Zip               106\n",
       "Gen_Place           0\n",
       "Total_Pace          0\n",
       "Tot_Div             0\n",
       "Tot_Gend            0\n",
       "Tot_AG              0\n",
       "5K                 30\n",
       "10K                22\n",
       "15K                29\n",
       "11.5M             442\n",
       "13.1M               0\n",
       "dtype: int64"
      ]
     },
     "execution_count": 7,
     "metadata": {},
     "output_type": "execute_result"
    }
   ],
   "source": [
    "df.isna().sum()"
   ]
  },
  {
   "cell_type": "code",
   "execution_count": 8,
   "metadata": {},
   "outputs": [
    {
     "data": {
      "text/plain": [
       "Mexico City                  4\n",
       "Mexico                       2\n",
       "Guatemala                    2\n",
       "Austin                       1\n",
       "San Pedro Garza Garcia       1\n",
       "Frisco                       1\n",
       "Fleury Merogis               1\n",
       "La Magdalena Contreras Me    1\n",
       "Name: City, dtype: int64"
      ]
     },
     "execution_count": 8,
     "metadata": {},
     "output_type": "execute_result"
    }
   ],
   "source": [
    "#some values are missing state but not missing city... manually back in?\n",
    "df[(df['State'].isna())&(df['City'].notna())]['City'].value_counts()"
   ]
  },
  {
   "cell_type": "code",
   "execution_count": 9,
   "metadata": {},
   "outputs": [
    {
     "data": {
      "text/plain": [
       "Index(['TX', 'OK', 'AR', 'IL', 'CA', 'CO', 'NY', 'LA', 'MO', 'KS', 'OH', 'FL',\n",
       "       'VA', 'PA', 'TN', 'NM', 'NJ', 'GA', 'MN', 'MI', 'MD', 'WI', 'WA', 'DC',\n",
       "       'IA', 'NC', 'MS', 'AL', 'AZ', 'MA', 'MEXICO', 'OR', 'NE', 'CDMX',\n",
       "       'COAHUILA', 'KY', 'UT', 'SC', 'ON', 'GUATEMALA', 'HI', 'M�X.', 'AA',\n",
       "       'LA LIBERTA', 'CT', 'VIC', 'SANTIAGO', 'REGI�N MET', 'RJ', 'HEREDIA',\n",
       "       'TAMPS.', 'ME', 'IN', 'COAH.', 'NH', 'NUEVO LEON', 'WY', 'MEXICO CIT',\n",
       "       'DE', 'NV', 'NL', 'PUEBLA'],\n",
       "      dtype='object')"
      ]
     },
     "execution_count": 9,
     "metadata": {},
     "output_type": "execute_result"
    }
   ],
   "source": [
    "df['State'].value_counts().keys()"
   ]
  },
  {
   "cell_type": "code",
   "execution_count": 10,
   "metadata": {},
   "outputs": [],
   "source": [
    "US_lst = ['TX', 'OK', 'AR', 'IL', 'CA', 'CO', 'NY', 'LA', 'MO', 'KS', 'OH', \n",
    "          'VA','FL', 'PA', 'TN', 'NJ', 'NM', 'GA', 'MN', 'MI', 'MD', 'IA', \n",
    "          'DC', 'WI','WA', 'NC', 'MS', 'AL', 'AZ', 'MA','NE', 'OR','KY','UT',\n",
    "          'HI','WY', 'DE', 'NV', 'ME','SC','NH','CT', 'IN']\n",
    "MX_lst = ['MEXICO','CDMX','COAHUILA','M�X.', 'LA LIBERTA','REGI�N MET', \n",
    "          'COAH.', 'HEREDIA', 'PUEBLA', 'VIC','SANTIAGO', 'TAMPS.','MEXICO CIT', 'NUEVO LEON','NL']\n",
    "Brazil_lst = ['RJ']\n",
    "Canada_lst = ['ON']\n",
    "Guatemala = ['GUATEMALA']\n",
    "\n",
    "#Should be texas ... cities are Garland and Dallas\n",
    "Not_sure_lst = ['AA']\n",
    "\n",
    "#Austin and Frisco entries are Texas\n",
    "df.loc[df.City=='Austin','State']='TX'\n",
    "df.loc[df.City=='Frisco','State']='TX'\n"
   ]
  },
  {
   "cell_type": "code",
   "execution_count": 11,
   "metadata": {},
   "outputs": [],
   "source": [
    "#Clean up state names\n",
    "df.loc[df['State']=='NUEVO LEON','State']='NL'\n",
    "df.loc[df['State']=='NL','State']='Nuevo Leon'\n",
    "df.loc[df['State']=='CDMX','State']='Mexico'\n",
    "df.loc[df['State']=='M�X.','State']='Mexico'\n",
    "df.loc[df['State']=='LA LIBERTA','State']='Chiapas'\n",
    "df.loc[df['State']=='MEXICO CIT','State']='Mexico'\n",
    "df.loc[df['State']=='TAMPS.','State']='Tamaulipas'\n",
    "df.loc[df['State']=='COAH.','State']='Coahuila'\n",
    "df.loc[df['State']=='MEXICO','State']='Mexico'\n",
    "df.loc[df['State']=='COAHUILA','State']='Coahuila'\n",
    "df.loc[df['State']=='SANTIAGO','State']='Santiago'\n",
    "df.loc[df['State']=='PUEBLA','State']='Puebla'\n",
    "df.loc[df['State']=='HEREDIA','State']='Heredia'\n",
    "df.loc[df['State']=='VIC','State']='Victoria'\n",
    "df.loc[df['City']=='Stgo','City']='Santiago'"
   ]
  },
  {
   "cell_type": "code",
   "execution_count": 12,
   "metadata": {},
   "outputs": [],
   "source": [
    "#'Not Sure List'\n",
    "df.loc[df.State.isin(Not_sure_lst),'State'] = 'TX'\n",
    "df.loc[df.State.isin(Not_sure_lst),'Country'] = 'US'\n",
    "\n",
    "#Mexico List\n",
    "df.loc[df.State.isin(MX_lst),'Country'] = 'MX'\n",
    "df.loc[df.City=='San Pedro Garza Garcia','Country'] = 'MX'\n",
    "df.loc[df.City=='La Magdalena Contreras Me','Country'] = 'MX'\n",
    "\n",
    "df.loc[df.State=='Mexico','Country'] = 'MX'\n",
    "df.loc[df.State=='Coahuila','Country'] = 'MX'\n",
    "df.loc[df.State=='Chiapas','Country'] = 'MX'\n",
    "df.loc[df.State=='Nuevo Leon','Country'] = 'MX'\n",
    "df.loc[df.State=='Tamaulipas','Country'] = 'MX'\n",
    "df.loc[df.State=='Puebla','Country'] = 'MX'\n",
    "df.loc[df.State=='Heredia','Country'] = 'MX'\n",
    "\n",
    "\n",
    "#Handle Mexico City city list\n",
    "df.loc[df.City=='Mexico City','Country'] = 'MX'\n",
    "\n",
    "#Handle US List\n",
    "df.loc[df.State.isin(US_lst),'Country'] = 'US'\n",
    "df.loc[df.City=='Frisco','Country'] = 'US'\n",
    "df.loc[df.City=='Austin','Country'] = 'US'\n",
    "\n",
    "#Handle Brazil List\n",
    "df.loc[df.State.isin(Brazil_lst),'Country'] = 'BR'\n",
    "\n",
    "#Handle Canada List\n",
    "df.loc[df.State.isin(Canada_lst),'Country'] = 'CAN'\n",
    "\n",
    "#Handle Guatemala List\n",
    "df.loc[df.State.isin(Guatemala),'Country'] = 'GT'\n",
    "df.loc[df.City=='Guatemala','Country'] = 'GT'\n",
    "\n",
    "#Handle France list\n",
    "df.loc[df.City=='Fleury Merogis','Country'] = 'FR'\n",
    "\n",
    "#Chile\n",
    "df.loc[df['State']=='REGI�N MET','Country'] = 'CL'\n",
    "df.loc[df['State']=='REGI�N MET','State'] = 'Santiago'\n",
    "df.loc[df['State']=='Santiago','Country'] = 'CL'\n",
    "\n",
    "#Costa Rica\n",
    "df.loc[df['State']=='HEREDIA','Country'] = 'CR'\n",
    "\n",
    "#Australia\n",
    "df.loc[df['State']=='VIC','Country'] = 'AUS'\n",
    "df.loc[df['City']=='Torquay','Country'] = 'AUS'\n",
    "\n"
   ]
  },
  {
   "cell_type": "code",
   "execution_count": 13,
   "metadata": {},
   "outputs": [],
   "source": [
    "df.loc[df.City=='San Pedro Garza Garcia', 'State'] = 'Nuevo Leon'\n",
    "df.loc[df.City=='Fleury Merogis', 'State'] = 'Essonne'\n",
    "df.loc[df.City=='Mexico', 'State'] = 'Mexico City'\n",
    "df.loc[df.City=='Mexico City', 'State'] = 'Mexico City'\n",
    "df.loc[df.City=='La Magdalena Contreras Me', 'State'] = 'Mexico City'\n",
    "df.loc[df.City=='Guatemala', 'State'] = 'Guatemala'\n",
    "df.loc[df.State=='Mexico City', 'Country'] = 'MX'\n"
   ]
  },
  {
   "cell_type": "code",
   "execution_count": 14,
   "metadata": {},
   "outputs": [
    {
     "data": {
      "text/plain": [
       "Chip_Time           0\n",
       "First_Name          0\n",
       "Last_Name           0\n",
       "City              106\n",
       "State             106\n",
       "Division            0\n",
       "Class_Position      0\n",
       "Overall_Place       0\n",
       "Age                 0\n",
       "Zip               106\n",
       "Gen_Place           0\n",
       "Total_Pace          0\n",
       "Tot_Div             0\n",
       "Tot_Gend            0\n",
       "Tot_AG              0\n",
       "5K                 30\n",
       "10K                22\n",
       "15K                29\n",
       "11.5M             442\n",
       "13.1M               0\n",
       "Country           106\n",
       "dtype: int64"
      ]
     },
     "execution_count": 14,
     "metadata": {},
     "output_type": "execute_result"
    }
   ],
   "source": [
    "df.isna().sum()"
   ]
  },
  {
   "cell_type": "code",
   "execution_count": 15,
   "metadata": {},
   "outputs": [],
   "source": [
    "#Fill NA\n",
    "df.loc[((df.City.isna()) & (df.State.isna()) & (df.Zip.isna()) & (df.Country.isna())) ,['City','State','Zip', 'Country']] = 'Not Disclosed'\n"
   ]
  },
  {
   "cell_type": "code",
   "execution_count": 16,
   "metadata": {},
   "outputs": [
    {
     "data": {
      "text/html": [
       "<div>\n",
       "<style scoped>\n",
       "    .dataframe tbody tr th:only-of-type {\n",
       "        vertical-align: middle;\n",
       "    }\n",
       "\n",
       "    .dataframe tbody tr th {\n",
       "        vertical-align: top;\n",
       "    }\n",
       "\n",
       "    .dataframe thead th {\n",
       "        text-align: right;\n",
       "    }\n",
       "</style>\n",
       "<table border=\"1\" class=\"dataframe\">\n",
       "  <thead>\n",
       "    <tr style=\"text-align: right;\">\n",
       "      <th></th>\n",
       "      <th>Count</th>\n",
       "      <th>Percent</th>\n",
       "    </tr>\n",
       "  </thead>\n",
       "  <tbody>\n",
       "    <tr>\n",
       "      <th>Chip_Time</th>\n",
       "      <td>0</td>\n",
       "      <td>0.0</td>\n",
       "    </tr>\n",
       "    <tr>\n",
       "      <th>First_Name</th>\n",
       "      <td>0</td>\n",
       "      <td>0.0</td>\n",
       "    </tr>\n",
       "    <tr>\n",
       "      <th>Last_Name</th>\n",
       "      <td>0</td>\n",
       "      <td>0.0</td>\n",
       "    </tr>\n",
       "    <tr>\n",
       "      <th>City</th>\n",
       "      <td>0</td>\n",
       "      <td>0.0</td>\n",
       "    </tr>\n",
       "    <tr>\n",
       "      <th>State</th>\n",
       "      <td>0</td>\n",
       "      <td>0.0</td>\n",
       "    </tr>\n",
       "    <tr>\n",
       "      <th>Division</th>\n",
       "      <td>0</td>\n",
       "      <td>0.0</td>\n",
       "    </tr>\n",
       "    <tr>\n",
       "      <th>Class_Position</th>\n",
       "      <td>0</td>\n",
       "      <td>0.0</td>\n",
       "    </tr>\n",
       "    <tr>\n",
       "      <th>Overall_Place</th>\n",
       "      <td>0</td>\n",
       "      <td>0.0</td>\n",
       "    </tr>\n",
       "    <tr>\n",
       "      <th>Age</th>\n",
       "      <td>0</td>\n",
       "      <td>0.0</td>\n",
       "    </tr>\n",
       "    <tr>\n",
       "      <th>Zip</th>\n",
       "      <td>0</td>\n",
       "      <td>0.0</td>\n",
       "    </tr>\n",
       "    <tr>\n",
       "      <th>Gen_Place</th>\n",
       "      <td>0</td>\n",
       "      <td>0.0</td>\n",
       "    </tr>\n",
       "    <tr>\n",
       "      <th>Total_Pace</th>\n",
       "      <td>0</td>\n",
       "      <td>0.0</td>\n",
       "    </tr>\n",
       "    <tr>\n",
       "      <th>Tot_Div</th>\n",
       "      <td>0</td>\n",
       "      <td>0.0</td>\n",
       "    </tr>\n",
       "    <tr>\n",
       "      <th>Tot_Gend</th>\n",
       "      <td>0</td>\n",
       "      <td>0.0</td>\n",
       "    </tr>\n",
       "    <tr>\n",
       "      <th>Tot_AG</th>\n",
       "      <td>0</td>\n",
       "      <td>0.0</td>\n",
       "    </tr>\n",
       "    <tr>\n",
       "      <th>5K</th>\n",
       "      <td>30</td>\n",
       "      <td>0.0</td>\n",
       "    </tr>\n",
       "    <tr>\n",
       "      <th>10K</th>\n",
       "      <td>22</td>\n",
       "      <td>0.0</td>\n",
       "    </tr>\n",
       "    <tr>\n",
       "      <th>15K</th>\n",
       "      <td>29</td>\n",
       "      <td>0.0</td>\n",
       "    </tr>\n",
       "    <tr>\n",
       "      <th>11.5M</th>\n",
       "      <td>442</td>\n",
       "      <td>0.1</td>\n",
       "    </tr>\n",
       "    <tr>\n",
       "      <th>13.1M</th>\n",
       "      <td>0</td>\n",
       "      <td>0.0</td>\n",
       "    </tr>\n",
       "    <tr>\n",
       "      <th>Country</th>\n",
       "      <td>0</td>\n",
       "      <td>0.0</td>\n",
       "    </tr>\n",
       "  </tbody>\n",
       "</table>\n",
       "</div>"
      ],
      "text/plain": [
       "                Count  Percent\n",
       "Chip_Time           0      0.0\n",
       "First_Name          0      0.0\n",
       "Last_Name           0      0.0\n",
       "City                0      0.0\n",
       "State               0      0.0\n",
       "Division            0      0.0\n",
       "Class_Position      0      0.0\n",
       "Overall_Place       0      0.0\n",
       "Age                 0      0.0\n",
       "Zip                 0      0.0\n",
       "Gen_Place           0      0.0\n",
       "Total_Pace          0      0.0\n",
       "Tot_Div             0      0.0\n",
       "Tot_Gend            0      0.0\n",
       "Tot_AG              0      0.0\n",
       "5K                 30      0.0\n",
       "10K                22      0.0\n",
       "15K                29      0.0\n",
       "11.5M             442      0.1\n",
       "13.1M               0      0.0\n",
       "Country             0      0.0"
      ]
     },
     "execution_count": 16,
     "metadata": {},
     "output_type": "execute_result"
    }
   ],
   "source": [
    "pd.DataFrame({'Count':df.isna().sum(), 'Percent':round(df.isna().sum()/df.shape[0],1)})"
   ]
  },
  {
   "cell_type": "markdown",
   "metadata": {},
   "source": [
    "For now, I plan to drop the records with missing values for 11.5M"
   ]
  },
  {
   "cell_type": "code",
   "execution_count": 17,
   "metadata": {},
   "outputs": [],
   "source": [
    "df.dropna(subset=['5K','10K','15K','11.5M'], inplace=True)"
   ]
  },
  {
   "cell_type": "code",
   "execution_count": 18,
   "metadata": {},
   "outputs": [
    {
     "data": {
      "text/html": [
       "<div>\n",
       "<style scoped>\n",
       "    .dataframe tbody tr th:only-of-type {\n",
       "        vertical-align: middle;\n",
       "    }\n",
       "\n",
       "    .dataframe tbody tr th {\n",
       "        vertical-align: top;\n",
       "    }\n",
       "\n",
       "    .dataframe thead th {\n",
       "        text-align: right;\n",
       "    }\n",
       "</style>\n",
       "<table border=\"1\" class=\"dataframe\">\n",
       "  <thead>\n",
       "    <tr style=\"text-align: right;\">\n",
       "      <th></th>\n",
       "      <th>Count</th>\n",
       "      <th>Percent</th>\n",
       "    </tr>\n",
       "  </thead>\n",
       "  <tbody>\n",
       "    <tr>\n",
       "      <th>Chip_Time</th>\n",
       "      <td>0</td>\n",
       "      <td>0.0</td>\n",
       "    </tr>\n",
       "    <tr>\n",
       "      <th>First_Name</th>\n",
       "      <td>0</td>\n",
       "      <td>0.0</td>\n",
       "    </tr>\n",
       "    <tr>\n",
       "      <th>Last_Name</th>\n",
       "      <td>0</td>\n",
       "      <td>0.0</td>\n",
       "    </tr>\n",
       "    <tr>\n",
       "      <th>City</th>\n",
       "      <td>0</td>\n",
       "      <td>0.0</td>\n",
       "    </tr>\n",
       "    <tr>\n",
       "      <th>State</th>\n",
       "      <td>0</td>\n",
       "      <td>0.0</td>\n",
       "    </tr>\n",
       "    <tr>\n",
       "      <th>Division</th>\n",
       "      <td>0</td>\n",
       "      <td>0.0</td>\n",
       "    </tr>\n",
       "    <tr>\n",
       "      <th>Class_Position</th>\n",
       "      <td>0</td>\n",
       "      <td>0.0</td>\n",
       "    </tr>\n",
       "    <tr>\n",
       "      <th>Overall_Place</th>\n",
       "      <td>0</td>\n",
       "      <td>0.0</td>\n",
       "    </tr>\n",
       "    <tr>\n",
       "      <th>Age</th>\n",
       "      <td>0</td>\n",
       "      <td>0.0</td>\n",
       "    </tr>\n",
       "    <tr>\n",
       "      <th>Zip</th>\n",
       "      <td>0</td>\n",
       "      <td>0.0</td>\n",
       "    </tr>\n",
       "    <tr>\n",
       "      <th>Gen_Place</th>\n",
       "      <td>0</td>\n",
       "      <td>0.0</td>\n",
       "    </tr>\n",
       "    <tr>\n",
       "      <th>Total_Pace</th>\n",
       "      <td>0</td>\n",
       "      <td>0.0</td>\n",
       "    </tr>\n",
       "    <tr>\n",
       "      <th>Tot_Div</th>\n",
       "      <td>0</td>\n",
       "      <td>0.0</td>\n",
       "    </tr>\n",
       "    <tr>\n",
       "      <th>Tot_Gend</th>\n",
       "      <td>0</td>\n",
       "      <td>0.0</td>\n",
       "    </tr>\n",
       "    <tr>\n",
       "      <th>Tot_AG</th>\n",
       "      <td>0</td>\n",
       "      <td>0.0</td>\n",
       "    </tr>\n",
       "    <tr>\n",
       "      <th>5K</th>\n",
       "      <td>0</td>\n",
       "      <td>0.0</td>\n",
       "    </tr>\n",
       "    <tr>\n",
       "      <th>10K</th>\n",
       "      <td>0</td>\n",
       "      <td>0.0</td>\n",
       "    </tr>\n",
       "    <tr>\n",
       "      <th>15K</th>\n",
       "      <td>0</td>\n",
       "      <td>0.0</td>\n",
       "    </tr>\n",
       "    <tr>\n",
       "      <th>11.5M</th>\n",
       "      <td>0</td>\n",
       "      <td>0.0</td>\n",
       "    </tr>\n",
       "    <tr>\n",
       "      <th>13.1M</th>\n",
       "      <td>0</td>\n",
       "      <td>0.0</td>\n",
       "    </tr>\n",
       "    <tr>\n",
       "      <th>Country</th>\n",
       "      <td>0</td>\n",
       "      <td>0.0</td>\n",
       "    </tr>\n",
       "  </tbody>\n",
       "</table>\n",
       "</div>"
      ],
      "text/plain": [
       "                Count  Percent\n",
       "Chip_Time           0      0.0\n",
       "First_Name          0      0.0\n",
       "Last_Name           0      0.0\n",
       "City                0      0.0\n",
       "State               0      0.0\n",
       "Division            0      0.0\n",
       "Class_Position      0      0.0\n",
       "Overall_Place       0      0.0\n",
       "Age                 0      0.0\n",
       "Zip                 0      0.0\n",
       "Gen_Place           0      0.0\n",
       "Total_Pace          0      0.0\n",
       "Tot_Div             0      0.0\n",
       "Tot_Gend            0      0.0\n",
       "Tot_AG              0      0.0\n",
       "5K                  0      0.0\n",
       "10K                 0      0.0\n",
       "15K                 0      0.0\n",
       "11.5M               0      0.0\n",
       "13.1M               0      0.0\n",
       "Country             0      0.0"
      ]
     },
     "execution_count": 18,
     "metadata": {},
     "output_type": "execute_result"
    }
   ],
   "source": [
    "pd.DataFrame({'Count':df.isna().sum(), 'Percent':round(df.isna().sum()/df.shape[0],1)})"
   ]
  },
  {
   "cell_type": "code",
   "execution_count": 19,
   "metadata": {},
   "outputs": [
    {
     "name": "stdout",
     "output_type": "stream",
     "text": [
      "<class 'pandas.core.frame.DataFrame'>\n",
      "Int64Index: 6011 entries, 0 to 6497\n",
      "Data columns (total 21 columns):\n",
      "Chip_Time         6011 non-null object\n",
      "First_Name        6011 non-null object\n",
      "Last_Name         6011 non-null object\n",
      "City              6011 non-null object\n",
      "State             6011 non-null object\n",
      "Division          6011 non-null object\n",
      "Class_Position    6011 non-null object\n",
      "Overall_Place     6011 non-null object\n",
      "Age               6011 non-null int64\n",
      "Zip               6011 non-null object\n",
      "Gen_Place         6011 non-null object\n",
      "Total_Pace        6011 non-null object\n",
      "Tot_Div           6011 non-null int64\n",
      "Tot_Gend          6011 non-null int64\n",
      "Tot_AG            6011 non-null int64\n",
      "5K                6011 non-null object\n",
      "10K               6011 non-null object\n",
      "15K               6011 non-null object\n",
      "11.5M             6011 non-null object\n",
      "13.1M             6011 non-null object\n",
      "Country           6011 non-null object\n",
      "dtypes: int64(4), object(17)\n",
      "memory usage: 1.0+ MB\n"
     ]
    }
   ],
   "source": [
    "df.info()"
   ]
  },
  {
   "cell_type": "markdown",
   "metadata": {},
   "source": [
    "## Feature Engineering"
   ]
  },
  {
   "cell_type": "code",
   "execution_count": 20,
   "metadata": {},
   "outputs": [],
   "source": [
    "#Convert time columns"
   ]
  },
  {
   "cell_type": "code",
   "execution_count": 21,
   "metadata": {},
   "outputs": [],
   "source": [
    "def get_sec(time_str):\n",
    "    \"\"\"Get Seconds from time.\"\"\"\n",
    "    h, m, s = time_str.split(':')\n",
    "    return int(h) * 3600 + int(m) * 60 + int(s)\n",
    "\n",
    "def get_min(time_str):\n",
    "    \"\"\"Get minutes from time.\"\"\"\n",
    "    h, m, s = time_str.split(':')\n",
    "    return int(h) * 60 + int(m) + int(s)/60\n",
    "\n",
    "def get_hour(time_str):\n",
    "    \"\"\"Get Seconds from time.\"\"\"\n",
    "    h, m, s = time_str.split(':')\n",
    "    return int(h) + int(m)/60 + int(s)/3600"
   ]
  },
  {
   "cell_type": "code",
   "execution_count": 22,
   "metadata": {},
   "outputs": [
    {
     "data": {
      "text/html": [
       "<div>\n",
       "<style scoped>\n",
       "    .dataframe tbody tr th:only-of-type {\n",
       "        vertical-align: middle;\n",
       "    }\n",
       "\n",
       "    .dataframe tbody tr th {\n",
       "        vertical-align: top;\n",
       "    }\n",
       "\n",
       "    .dataframe thead th {\n",
       "        text-align: right;\n",
       "    }\n",
       "</style>\n",
       "<table border=\"1\" class=\"dataframe\">\n",
       "  <thead>\n",
       "    <tr style=\"text-align: right;\">\n",
       "      <th></th>\n",
       "      <th>Chip_Time</th>\n",
       "      <th>First_Name</th>\n",
       "      <th>Last_Name</th>\n",
       "      <th>City</th>\n",
       "      <th>State</th>\n",
       "      <th>Division</th>\n",
       "      <th>Class_Position</th>\n",
       "      <th>Overall_Place</th>\n",
       "      <th>Age</th>\n",
       "      <th>Zip</th>\n",
       "      <th>Gen_Place</th>\n",
       "      <th>Total_Pace</th>\n",
       "      <th>Tot_Div</th>\n",
       "      <th>Tot_Gend</th>\n",
       "      <th>Tot_AG</th>\n",
       "      <th>5K</th>\n",
       "      <th>10K</th>\n",
       "      <th>15K</th>\n",
       "      <th>11.5M</th>\n",
       "      <th>13.1M</th>\n",
       "      <th>Country</th>\n",
       "    </tr>\n",
       "  </thead>\n",
       "  <tbody>\n",
       "    <tr>\n",
       "      <th>0</th>\n",
       "      <td>1:06:53</td>\n",
       "      <td>Colby-Wayne</td>\n",
       "      <td>Mehmen</td>\n",
       "      <td>Princeton</td>\n",
       "      <td>TX</td>\n",
       "      <td>OVERALL</td>\n",
       "      <td>1</td>\n",
       "      <td>1</td>\n",
       "      <td>23</td>\n",
       "      <td>75407</td>\n",
       "      <td>1</td>\n",
       "      <td>5:06</td>\n",
       "      <td>6508</td>\n",
       "      <td>3140</td>\n",
       "      <td>177</td>\n",
       "      <td>15:34</td>\n",
       "      <td>31:47:00</td>\n",
       "      <td>47:35:00</td>\n",
       "      <td>59:11:00</td>\n",
       "      <td>1:06:53</td>\n",
       "      <td>US</td>\n",
       "    </tr>\n",
       "    <tr>\n",
       "      <th>1</th>\n",
       "      <td>1:10:31</td>\n",
       "      <td>Aaron</td>\n",
       "      <td>Sherf</td>\n",
       "      <td>Norman</td>\n",
       "      <td>OK</td>\n",
       "      <td>OVERALL</td>\n",
       "      <td>2</td>\n",
       "      <td>2</td>\n",
       "      <td>28</td>\n",
       "      <td>73072</td>\n",
       "      <td>2</td>\n",
       "      <td>5:23</td>\n",
       "      <td>6508</td>\n",
       "      <td>3140</td>\n",
       "      <td>365</td>\n",
       "      <td>16:38</td>\n",
       "      <td>33:32:00</td>\n",
       "      <td>50:05:00</td>\n",
       "      <td>1:02:20</td>\n",
       "      <td>1:10:31</td>\n",
       "      <td>US</td>\n",
       "    </tr>\n",
       "  </tbody>\n",
       "</table>\n",
       "</div>"
      ],
      "text/plain": [
       "  Chip_Time   First_Name Last_Name       City State Division Class_Position  \\\n",
       "0   1:06:53  Colby-Wayne    Mehmen  Princeton    TX  OVERALL              1   \n",
       "1   1:10:31        Aaron     Sherf     Norman    OK  OVERALL              2   \n",
       "\n",
       "  Overall_Place  Age    Zip Gen_Place Total_Pace  Tot_Div  Tot_Gend  Tot_AG  \\\n",
       "0             1   23  75407         1       5:06     6508      3140     177   \n",
       "1             2   28  73072         2       5:23     6508      3140     365   \n",
       "\n",
       "      5K       10K       15K     11.5M    13.1M Country  \n",
       "0  15:34  31:47:00  47:35:00  59:11:00  1:06:53      US  \n",
       "1  16:38  33:32:00  50:05:00   1:02:20  1:10:31      US  "
      ]
     },
     "execution_count": 22,
     "metadata": {},
     "output_type": "execute_result"
    }
   ],
   "source": [
    "df.head(2)"
   ]
  },
  {
   "cell_type": "code",
   "execution_count": 23,
   "metadata": {},
   "outputs": [],
   "source": [
    "df['Chip_sec'] = df['Chip_Time'].apply(lambda x: get_sec(x))\n",
    "df['Chip_min'] = df['Chip_Time'].apply(lambda x: get_min(x))\n",
    "df['Chip_hr'] = df['Chip_Time'].apply(lambda x: get_hour(x))\n"
   ]
  },
  {
   "cell_type": "code",
   "execution_count": 24,
   "metadata": {},
   "outputs": [
    {
     "data": {
      "text/plain": [
       "<matplotlib.axes._subplots.AxesSubplot at 0x7fc6024bf790>"
      ]
     },
     "execution_count": 24,
     "metadata": {},
     "output_type": "execute_result"
    },
    {
     "data": {
      "image/png": "[encoded data removed]",
      "text/plain": [
       "<Figure size 432x288 with 1 Axes>"
      ]
     },
     "metadata": {
      "needs_background": "light"
     },
     "output_type": "display_data"
    }
   ],
   "source": [
    "df['Chip_sec'].hist(bins=50)"
   ]
  },
  {
   "cell_type": "code",
   "execution_count": 25,
   "metadata": {},
   "outputs": [
    {
     "data": {
      "text/plain": [
       "<matplotlib.axes._subplots.AxesSubplot at 0x7fc600a8ced0>"
      ]
     },
     "execution_count": 25,
     "metadata": {},
     "output_type": "execute_result"
    },
    {
     "data": {
      "image/png": "[encoded data removed]",
      "text/plain": [
       "<Figure size 432x288 with 1 Axes>"
      ]
     },
     "metadata": {
      "needs_background": "light"
     },
     "output_type": "display_data"
    }
   ],
   "source": [
    "df['Chip_min'].hist(bins=50)"
   ]
  },
  {
   "cell_type": "code",
   "execution_count": 26,
   "metadata": {},
   "outputs": [
    {
     "data": {
      "text/plain": [
       "<matplotlib.axes._subplots.AxesSubplot at 0x7fc600d11190>"
      ]
     },
     "execution_count": 26,
     "metadata": {},
     "output_type": "execute_result"
    },
    {
     "data": {
      "image/png": "[encoded data removed]",
      "text/plain": [
       "<Figure size 432x288 with 1 Axes>"
      ]
     },
     "metadata": {
      "needs_background": "light"
     },
     "output_type": "display_data"
    }
   ],
   "source": [
    "df['Chip_hr'].hist(bins=50)"
   ]
  },
  {
   "cell_type": "code",
   "execution_count": 27,
   "metadata": {},
   "outputs": [
    {
     "data": {
      "text/plain": [
       "F 25-29    523\n",
       "F 35-39    474\n",
       "F 30-34    454\n",
       "M 45-49    439\n",
       "F 40-44    412\n",
       "M 40-44    400\n",
       "M 35-39    398\n",
       "M 30-34    378\n",
       "F 45-49    344\n",
       "M 25-29    343\n",
       "M 50-54    307\n",
       "F 20-24    299\n",
       "F 50-54    202\n",
       "M 55-59    192\n",
       "M 20-24    169\n",
       "F 55-59    155\n",
       "M 60-64    108\n",
       "F 1-19     104\n",
       "M 1-19      98\n",
       "F 60-64     66\n",
       "M 65-69     43\n",
       "F 65-69     31\n",
       "F 0- 0      17\n",
       "M 70-74     16\n",
       "F 70-74     10\n",
       "M 0- 0       9\n",
       "OVERALL      6\n",
       "M 75-79      5\n",
       "M 80-99      3\n",
       "SENIORS      2\n",
       "F 75-79      2\n",
       "MASTERS      2\n",
       "Name: Division, dtype: int64"
      ]
     },
     "execution_count": 27,
     "metadata": {},
     "output_type": "execute_result"
    }
   ],
   "source": [
    "df['Division'].value_counts()"
   ]
  },
  {
   "cell_type": "code",
   "execution_count": 28,
   "metadata": {},
   "outputs": [],
   "source": [
    "df['Gender'] = df['Division'].str.split(' ', expand=True)[0]\n",
    "df['Age_Range'] = df['Division'].str.split(' ', expand=True)[1]"
   ]
  },
  {
   "cell_type": "markdown",
   "metadata": {},
   "source": [
    "People who finished at the top of the division were given different Division classifications than everyone else."
   ]
  },
  {
   "cell_type": "code",
   "execution_count": 29,
   "metadata": {},
   "outputs": [
    {
     "data": {
      "text/plain": [
       "F          3093\n",
       "M          2908\n",
       "OVERALL       6\n",
       "SENIORS       2\n",
       "MASTERS       2\n",
       "Name: Gender, dtype: int64"
      ]
     },
     "execution_count": 29,
     "metadata": {},
     "output_type": "execute_result"
    }
   ],
   "source": [
    "df['Gender'].value_counts()"
   ]
  },
  {
   "cell_type": "code",
   "execution_count": 30,
   "metadata": {},
   "outputs": [
    {
     "data": {
      "text/html": [
       "<div>\n",
       "<style scoped>\n",
       "    .dataframe tbody tr th:only-of-type {\n",
       "        vertical-align: middle;\n",
       "    }\n",
       "\n",
       "    .dataframe tbody tr th {\n",
       "        vertical-align: top;\n",
       "    }\n",
       "\n",
       "    .dataframe thead th {\n",
       "        text-align: right;\n",
       "    }\n",
       "</style>\n",
       "<table border=\"1\" class=\"dataframe\">\n",
       "  <thead>\n",
       "    <tr style=\"text-align: right;\">\n",
       "      <th></th>\n",
       "      <th>Chip_Time</th>\n",
       "      <th>First_Name</th>\n",
       "      <th>Last_Name</th>\n",
       "      <th>City</th>\n",
       "      <th>State</th>\n",
       "      <th>Division</th>\n",
       "      <th>Class_Position</th>\n",
       "      <th>Overall_Place</th>\n",
       "      <th>Age</th>\n",
       "      <th>Zip</th>\n",
       "      <th>Gen_Place</th>\n",
       "      <th>Total_Pace</th>\n",
       "      <th>Tot_Div</th>\n",
       "      <th>Tot_Gend</th>\n",
       "      <th>Tot_AG</th>\n",
       "      <th>5K</th>\n",
       "      <th>10K</th>\n",
       "      <th>15K</th>\n",
       "      <th>11.5M</th>\n",
       "      <th>13.1M</th>\n",
       "      <th>Country</th>\n",
       "      <th>Chip_sec</th>\n",
       "      <th>Chip_min</th>\n",
       "      <th>Chip_hr</th>\n",
       "      <th>Gender</th>\n",
       "      <th>Age_Range</th>\n",
       "    </tr>\n",
       "  </thead>\n",
       "  <tbody>\n",
       "    <tr>\n",
       "      <th>10</th>\n",
       "      <td>1:15:06</td>\n",
       "      <td>Vesko</td>\n",
       "      <td>Rajovic</td>\n",
       "      <td>Plano</td>\n",
       "      <td>TX</td>\n",
       "      <td>MASTERS</td>\n",
       "      <td>1</td>\n",
       "      <td>11</td>\n",
       "      <td>44</td>\n",
       "      <td>75024</td>\n",
       "      <td>11</td>\n",
       "      <td>5:44</td>\n",
       "      <td>6508</td>\n",
       "      <td>3140</td>\n",
       "      <td>444</td>\n",
       "      <td>18:03</td>\n",
       "      <td>36:01:00</td>\n",
       "      <td>53:31:00</td>\n",
       "      <td>1:06:21</td>\n",
       "      <td>1:15:06</td>\n",
       "      <td>US</td>\n",
       "      <td>4506</td>\n",
       "      <td>75.100000</td>\n",
       "      <td>1.251667</td>\n",
       "      <td>MASTERS</td>\n",
       "      <td>None</td>\n",
       "    </tr>\n",
       "    <tr>\n",
       "      <th>71</th>\n",
       "      <td>1:26:38</td>\n",
       "      <td>Rachel</td>\n",
       "      <td>Fox</td>\n",
       "      <td>Flower Mound</td>\n",
       "      <td>TX</td>\n",
       "      <td>MASTERS</td>\n",
       "      <td>1</td>\n",
       "      <td>72</td>\n",
       "      <td>44</td>\n",
       "      <td>75022</td>\n",
       "      <td>15</td>\n",
       "      <td>6:37</td>\n",
       "      <td>6508</td>\n",
       "      <td>3368</td>\n",
       "      <td>458</td>\n",
       "      <td>21:02</td>\n",
       "      <td>42:10:00</td>\n",
       "      <td>1:02:26</td>\n",
       "      <td>1:17:00</td>\n",
       "      <td>1:26:38</td>\n",
       "      <td>US</td>\n",
       "      <td>5198</td>\n",
       "      <td>86.633333</td>\n",
       "      <td>1.443889</td>\n",
       "      <td>MASTERS</td>\n",
       "      <td>None</td>\n",
       "    </tr>\n",
       "  </tbody>\n",
       "</table>\n",
       "</div>"
      ],
      "text/plain": [
       "   Chip_Time First_Name Last_Name          City State Division Class_Position  \\\n",
       "10   1:15:06      Vesko   Rajovic         Plano    TX  MASTERS              1   \n",
       "71   1:26:38     Rachel       Fox  Flower Mound    TX  MASTERS              1   \n",
       "\n",
       "   Overall_Place  Age    Zip Gen_Place Total_Pace  Tot_Div  Tot_Gend  Tot_AG  \\\n",
       "10            11   44  75024        11       5:44     6508      3140     444   \n",
       "71            72   44  75022        15       6:37     6508      3368     458   \n",
       "\n",
       "       5K       10K       15K    11.5M    13.1M Country  Chip_sec   Chip_min  \\\n",
       "10  18:03  36:01:00  53:31:00  1:06:21  1:15:06      US      4506  75.100000   \n",
       "71  21:02  42:10:00   1:02:26  1:17:00  1:26:38      US      5198  86.633333   \n",
       "\n",
       "     Chip_hr   Gender Age_Range  \n",
       "10  1.251667  MASTERS      None  \n",
       "71  1.443889  MASTERS      None  "
      ]
     },
     "execution_count": 30,
     "metadata": {},
     "output_type": "execute_result"
    }
   ],
   "source": [
    "df[df['Gender']=='MASTERS']"
   ]
  },
  {
   "cell_type": "code",
   "execution_count": 31,
   "metadata": {},
   "outputs": [],
   "source": [
    "#Manually convert these values\n",
    "\n",
    "#Overall Fastest\n",
    "df.loc[0,'Gender']='M'\n",
    "df.loc[1,'Gender']='M'\n",
    "df.loc[2,'Gender']='M'\n",
    "df.loc[18,'Gender']='F'\n",
    "df.loc[20,'Gender']='F'\n",
    "df.loc[29,'Gender']='F'\n",
    "\n",
    "#SENIORS\n",
    "df.loc[84,'Gender']='M'\n",
    "df.loc[706,'Gender']='F'\n",
    "\n",
    "#MASTERS\n",
    "df.loc[10,'Gender']='M'\n",
    "df.loc[71,'Gender']='F'"
   ]
  },
  {
   "cell_type": "code",
   "execution_count": 32,
   "metadata": {},
   "outputs": [
    {
     "data": {
      "text/plain": [
       "35-39    872\n",
       "25-29    866\n",
       "30-34    832\n",
       "40-44    812\n",
       "45-49    783\n",
       "50-54    509\n",
       "20-24    468\n",
       "55-59    347\n",
       "1-19     202\n",
       "60-64    174\n",
       "65-69     74\n",
       "70-74     26\n",
       "0-        26\n",
       "75-79      7\n",
       "80-99      3\n",
       "Name: Age_Range, dtype: int64"
      ]
     },
     "execution_count": 32,
     "metadata": {},
     "output_type": "execute_result"
    }
   ],
   "source": [
    "df['Age_Range'].value_counts()"
   ]
  },
  {
   "cell_type": "markdown",
   "metadata": {},
   "source": [
    "I notice a lot of people have 0's for their age. I'll replace with an average age for now.."
   ]
  },
  {
   "cell_type": "code",
   "execution_count": 33,
   "metadata": {},
   "outputs": [
    {
     "data": {
      "text/plain": [
       "38.70242272347536"
      ]
     },
     "execution_count": 33,
     "metadata": {},
     "output_type": "execute_result"
    }
   ],
   "source": [
    "avg_age = df[df.Age>0]['Age'].mean()\n",
    "avg_age"
   ]
  },
  {
   "cell_type": "code",
   "execution_count": 34,
   "metadata": {},
   "outputs": [],
   "source": [
    "df.loc[df.Age==0, 'Age']= avg_age"
   ]
  },
  {
   "cell_type": "code",
   "execution_count": 35,
   "metadata": {},
   "outputs": [],
   "source": [
    "for i in df.index:\n",
    "    if df.loc[i]['Age']>1 and df.loc[i]['Age']<20:\n",
    "        df.loc[i,'Age_Range']='1-19'\n",
    "    elif df.loc[i]['Age']>=20 and df.loc[i]['Age']<=24:\n",
    "        df.loc[i,'Age_Range']='20-24'\n",
    "    elif df.loc[i]['Age']>=25 and df.loc[i]['Age']<=29:\n",
    "        df.loc[i,'Age_Range']='25-29'\n",
    "    elif df.loc[i]['Age']>=30 and df.loc[i]['Age']<=34:\n",
    "        df.loc[i,'Age_Range']='30-34'\n",
    "    elif df.loc[i]['Age']>=35 and df.loc[i]['Age']<=39:\n",
    "        df.loc[i,'Age_Range']='35-39'\n",
    "    elif df.loc[i]['Age']>=40 and df.loc[i]['Age']<=44:\n",
    "        df.loc[i,'Age_Range']='40-44'\n",
    "    elif df.loc[i]['Age']>=45 and df.loc[i]['Age']<=49:\n",
    "        df.loc[i,'Age_Range']='45-49'\n",
    "    elif df.loc[i]['Age']>=50 and df.loc[i]['Age']<=54:\n",
    "        df.loc[i,'Age_Range']='50-54'\n",
    "    elif df.loc[i]['Age']>=55 and df.loc[i]['Age']<=59:\n",
    "        df.loc[i,'Age_Range']='55-59'\n",
    "    elif df.loc[i]['Age']>=60 and df.loc[i]['Age']<=64:\n",
    "        df.loc[i,'Age_Range']='60-64'\n",
    "    elif df.loc[i]['Age']>=65 and df.loc[i]['Age']<=69:\n",
    "        df.loc[i,'Age_Range']='65-69'\n",
    "    elif df.loc[i]['Age']>=70 and df.loc[i]['Age']<=74:\n",
    "        df.loc[i,'Age_Range']='70-74'\n",
    "    elif df.loc[i]['Age']>=75 and df.loc[i]['Age']<=79:\n",
    "        df.loc[i,'Age_Range']='75-79'\n",
    "    elif df.loc[i]['Age']>=80 and df.loc[i]['Age']<99:\n",
    "        df.loc[i,'Age_Range']='80-99'\n"
   ]
  },
  {
   "cell_type": "code",
   "execution_count": 39,
   "metadata": {},
   "outputs": [
    {
     "data": {
      "text/html": [
       "<div>\n",
       "<style scoped>\n",
       "    .dataframe tbody tr th:only-of-type {\n",
       "        vertical-align: middle;\n",
       "    }\n",
       "\n",
       "    .dataframe tbody tr th {\n",
       "        vertical-align: top;\n",
       "    }\n",
       "\n",
       "    .dataframe thead th {\n",
       "        text-align: right;\n",
       "    }\n",
       "</style>\n",
       "<table border=\"1\" class=\"dataframe\">\n",
       "  <thead>\n",
       "    <tr style=\"text-align: right;\">\n",
       "      <th></th>\n",
       "      <th>Age</th>\n",
       "      <th>Age_Range</th>\n",
       "    </tr>\n",
       "  </thead>\n",
       "  <tbody>\n",
       "    <tr>\n",
       "      <th>3173</th>\n",
       "      <td>27.0</td>\n",
       "      <td>25-29</td>\n",
       "    </tr>\n",
       "    <tr>\n",
       "      <th>4167</th>\n",
       "      <td>35.0</td>\n",
       "      <td>35-39</td>\n",
       "    </tr>\n",
       "    <tr>\n",
       "      <th>1830</th>\n",
       "      <td>19.0</td>\n",
       "      <td>1-19</td>\n",
       "    </tr>\n",
       "    <tr>\n",
       "      <th>5232</th>\n",
       "      <td>48.0</td>\n",
       "      <td>45-49</td>\n",
       "    </tr>\n",
       "    <tr>\n",
       "      <th>4046</th>\n",
       "      <td>26.0</td>\n",
       "      <td>25-29</td>\n",
       "    </tr>\n",
       "    <tr>\n",
       "      <th>6287</th>\n",
       "      <td>27.0</td>\n",
       "      <td>25-29</td>\n",
       "    </tr>\n",
       "    <tr>\n",
       "      <th>6077</th>\n",
       "      <td>33.0</td>\n",
       "      <td>30-34</td>\n",
       "    </tr>\n",
       "    <tr>\n",
       "      <th>5978</th>\n",
       "      <td>30.0</td>\n",
       "      <td>30-34</td>\n",
       "    </tr>\n",
       "    <tr>\n",
       "      <th>1697</th>\n",
       "      <td>35.0</td>\n",
       "      <td>35-39</td>\n",
       "    </tr>\n",
       "    <tr>\n",
       "      <th>3603</th>\n",
       "      <td>40.0</td>\n",
       "      <td>40-44</td>\n",
       "    </tr>\n",
       "  </tbody>\n",
       "</table>\n",
       "</div>"
      ],
      "text/plain": [
       "       Age Age_Range\n",
       "3173  27.0     25-29\n",
       "4167  35.0     35-39\n",
       "1830  19.0      1-19\n",
       "5232  48.0     45-49\n",
       "4046  26.0     25-29\n",
       "6287  27.0     25-29\n",
       "6077  33.0     30-34\n",
       "5978  30.0     30-34\n",
       "1697  35.0     35-39\n",
       "3603  40.0     40-44"
      ]
     },
     "execution_count": 39,
     "metadata": {},
     "output_type": "execute_result"
    }
   ],
   "source": [
    "df[['Age','Age_Range']].sample(n=10)"
   ]
  },
  {
   "cell_type": "code",
   "execution_count": 37,
   "metadata": {},
   "outputs": [
    {
     "name": "stdout",
     "output_type": "stream",
     "text": [
      "count    6011.000000\n",
      "mean       38.702423\n",
      "std        11.896958\n",
      "min         9.000000\n",
      "25%        29.000000\n",
      "50%        38.000000\n",
      "75%        47.000000\n",
      "max        83.000000\n",
      "Name: Age, dtype: float64\n"
     ]
    },
    {
     "data": {
      "image/png": "[encoded data removed]",
      "text/plain": [
       "<Figure size 432x288 with 1 Axes>"
      ]
     },
     "metadata": {
      "needs_background": "light"
     },
     "output_type": "display_data"
    }
   ],
   "source": [
    "print(df['Age'].describe())\n",
    "df['Age'].hist(bins=30)\n",
    "plt.show()"
   ]
  },
  {
   "cell_type": "code",
   "execution_count": 41,
   "metadata": {},
   "outputs": [
    {
     "data": {
      "text/plain": [
       "Chip_Time          object\n",
       "First_Name         object\n",
       "Last_Name          object\n",
       "City               object\n",
       "State              object\n",
       "Division           object\n",
       "Class_Position     object\n",
       "Overall_Place      object\n",
       "Age               float64\n",
       "Zip                object\n",
       "Gen_Place          object\n",
       "Total_Pace         object\n",
       "Tot_Div             int64\n",
       "Tot_Gend            int64\n",
       "Tot_AG              int64\n",
       "5K                 object\n",
       "10K                object\n",
       "15K                object\n",
       "11.5M              object\n",
       "13.1M              object\n",
       "Country            object\n",
       "Chip_sec            int64\n",
       "Chip_min          float64\n",
       "Chip_hr           float64\n",
       "Gender             object\n",
       "Age_Range          object\n",
       "dtype: object"
      ]
     },
     "execution_count": 41,
     "metadata": {},
     "output_type": "execute_result"
    }
   ],
   "source": [
    "df.dtypes"
   ]
  },
  {
   "cell_type": "code",
   "execution_count": 47,
   "metadata": {},
   "outputs": [
    {
     "data": {
      "text/plain": [
       "<matplotlib.axes._subplots.AxesSubplot at 0x7fc600df1790>"
      ]
     },
     "execution_count": 47,
     "metadata": {},
     "output_type": "execute_result"
    },
    {
     "data": {
      "image/png": "[encoded data removed]",
      "text/plain": [
       "<Figure size 432x288 with 1 Axes>"
      ]
     },
     "metadata": {
      "needs_background": "light"
     },
     "output_type": "display_data"
    }
   ],
   "source": [
    "sns.boxplot(x='Age_Range', y='Chip_min', data=df)\n"
   ]
  },
  {
   "cell_type": "code",
   "execution_count": 77,
   "metadata": {},
   "outputs": [
    {
     "data": {
      "image/png": "[encoded data removed]",
      "text/plain": [
       "<Figure size 1080x720 with 1 Axes>"
      ]
     },
     "metadata": {
      "needs_background": "light"
     },
     "output_type": "display_data"
    }
   ],
   "source": [
    "# figure size in inches\n",
    "rcParams['figure.figsize'] = 15,10\n",
    "\n",
    "ax = sns.violinplot(x=\"Age_Range\", y=\"Chip_hr\", hue=\"Gender\",\n",
    "                    data=df, palette=\"muted\", split=True, bw=.2, order=[ \"1-19\", \"20-24\", \"25-29\",\"30-34\",\"35-39\",\n",
    "                                                                        \"40-44\",\"45-49\",\"50-54\", \"55-59\",\"60-64\", \n",
    "                                                                        \"65-69\",\"70-74\",\"75-79\",\"80-99\"])\n",
    "\n",
    "\n"
   ]
  },
  {
   "cell_type": "code",
   "execution_count": 71,
   "metadata": {},
   "outputs": [
    {
     "data": {
      "text/plain": [
       "35-39    898\n",
       "25-29    870\n",
       "30-34    832\n",
       "40-44    814\n",
       "45-49    783\n",
       "50-54    509\n",
       "20-24    470\n",
       "55-59    347\n",
       "1-19     202\n",
       "60-64    175\n",
       "65-69     75\n",
       "70-74     26\n",
       "75-79      7\n",
       "80-99      3\n",
       "Name: Age_Range, dtype: int64"
      ]
     },
     "execution_count": 71,
     "metadata": {},
     "output_type": "execute_result"
    }
   ],
   "source": [
    "df['Age_Range'].value_counts()"
   ]
  },
  {
   "cell_type": "code",
   "execution_count": 76,
   "metadata": {},
   "outputs": [
    {
     "data": {
      "image/png": "[encoded data removed]",
      "text/plain": [
       "<Figure size 1080x720 with 1 Axes>"
      ]
     },
     "metadata": {
      "needs_background": "light"
     },
     "output_type": "display_data"
    }
   ],
   "source": [
    "# figure size in inches\n",
    "rcParams['figure.figsize'] = 15,10\n",
    "\n",
    "ax = sns.violinplot(x=\"Age_Range\", y=\"Chip_hr\", hue=\"Gender\",\n",
    "                    data=(df[df.Age<65]), palette=\"muted\", split=True, bw=.2, order=[ \"1-19\", \"20-24\", \"25-29\", \n",
    "                                                                                     \"30-34\",\"35-39\",\"40-44\",\n",
    "                                                                                     \"45-49\",\"50-54\", \"55-59\",\"60-64\"])"
   ]
  },
  {
   "cell_type": "code",
   "execution_count": 85,
   "metadata": {},
   "outputs": [
    {
     "data": {
      "image/png": "[encoded data removed]",
      "text/plain": [
       "<Figure size 1080x720 with 1 Axes>"
      ]
     },
     "metadata": {
      "needs_background": "light"
     },
     "output_type": "display_data"
    }
   ],
   "source": [
    "# figure size in inches\n",
    "rcParams['figure.figsize'] = 15,10\n",
    "\n",
    "ax = sns.boxplot(x=\"Gender\", y=\"Chip_hr\", data=df)"
   ]
  },
  {
   "cell_type": "code",
   "execution_count": null,
   "metadata": {},
   "outputs": [],
   "source": []
  },
  {
   "cell_type": "code",
   "execution_count": null,
   "metadata": {},
   "outputs": [],
   "source": []
  },
  {
   "cell_type": "markdown",
   "metadata": {},
   "source": [
    "<a id='modeling'></a>\n",
    "\n",
    "## Modeling"
   ]
  },
  {
   "cell_type": "markdown",
   "metadata": {},
   "source": [
    "I want to build a regression model to predict the Chip time based on all of the attritbues"
   ]
  },
  {
   "cell_type": "code",
   "execution_count": null,
   "metadata": {},
   "outputs": [],
   "source": []
  }
 ],
 "metadata": {
  "kernelspec": {
   "display_name": "Python 3",
   "language": "python",
   "name": "python3"
  },
  "language_info": {
   "codemirror_mode": {
    "name": "ipython",
    "version": 3
   },
   "file_extension": ".py",
   "mimetype": "text/x-python",
   "name": "python",
   "nbconvert_exporter": "python",
   "pygments_lexer": "ipython3",
   "version": "3.7.4"
  }
 },
 "nbformat": 4,
 "nbformat_minor": 4
}
